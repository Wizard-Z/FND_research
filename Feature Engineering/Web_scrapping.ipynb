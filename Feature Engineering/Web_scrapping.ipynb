{
 "cells": [
  {
   "cell_type": "markdown",
   "metadata": {},
   "source": [
    "### Web Scrapping using New York Times API"
   ]
  },
  {
   "cell_type": "code",
   "execution_count": 9,
   "metadata": {},
   "outputs": [],
   "source": [
    "import nytlib as nyt"
   ]
  },
  {
   "cell_type": "code",
   "execution_count": 5,
   "metadata": {},
   "outputs": [],
   "source": [
    "articles = nyt.get_json(n = 10,query='Global Warming',desk='science', begin_date=20170101,end_date=20180101)"
   ]
  },
  {
   "cell_type": "code",
   "execution_count": 8,
   "metadata": {},
   "outputs": [],
   "source": [
    "destination_folder = 'Datasets/Web_Scrapping/'"
   ]
  },
  {
   "cell_type": "markdown",
   "metadata": {},
   "source": [
    "#### Save to Destination Folder"
   ]
  },
  {
   "cell_type": "code",
   "execution_count": null,
   "metadata": {},
   "outputs": [
    {
     "name": "stdout",
     "output_type": "stream",
     "text": [
      "E_C :  0\n",
      "E_C :  1\n",
      "E_C :  2\n"
     ]
    }
   ],
   "source": [
    "nyt.get_articles(articles,destination_folder)"
   ]
  },
  {
   "cell_type": "markdown",
   "metadata": {},
   "source": [
    "### Web Scrapping from various sources"
   ]
  },
  {
   "cell_type": "code",
   "execution_count": 1,
   "metadata": {},
   "outputs": [],
   "source": [
    "import newspaper"
   ]
  },
  {
   "cell_type": "code",
   "execution_count": null,
   "metadata": {},
   "outputs": [],
   "source": [
    "url_list = []"
   ]
  },
  {
   "cell_type": "code",
   "execution_count": 1,
   "metadata": {},
   "outputs": [],
   "source": [
    "url1 = 'https://www.sciencedaily.com/'"
   ]
  },
  {
   "cell_type": "code",
   "execution_count": 3,
   "metadata": {},
   "outputs": [],
   "source": [
    "def articless(x) :\n",
    "    artt = newspaper.build(x,memoize_articles=False)\n",
    "    #artt = newspaper.build(x)\n",
    "    return artt"
   ]
  },
  {
   "cell_type": "code",
   "execution_count": 4,
   "metadata": {},
   "outputs": [],
   "source": [
    "artcl = articless(url1).articles"
   ]
  },
  {
   "cell_type": "code",
   "execution_count": 6,
   "metadata": {},
   "outputs": [
    {
     "name": "stdout",
     "output_type": "stream",
     "text": [
      "Older fathers associated with increased birth risks, study reports\n",
      "\n",
      "A decade of data documenting live births in the United States links babies of older fathers with a variety of increased risks at birth, including low birth weight and seizures, according to a new study by researchers at the Stanford University School of Medicine.\n",
      "\n",
      "The data even suggest that the age of the father can sway the health of the mother during pregnancy, specifically her risk for developing diabetes.\n",
      "\n",
      "\"We tend to look at maternal factors in evaluating associated birth risks, but this st\n"
     ]
    }
   ],
   "source": [
    "Url = artcl[4].url\n",
    "art = newspaper.Article(Url, language = 'en')\n",
    "art.download()\n",
    "art.parse()\n",
    "tt = art.text\n",
    "tit = art.title\n",
    "print(tit,tt[:500],sep = '\\n\\n')"
   ]
  },
  {
   "cell_type": "code",
   "execution_count": 11,
   "metadata": {},
   "outputs": [],
   "source": [
    "i = 0\n",
    "ec = 0\n",
    "destination_folder = 'Datasets/Web_Scrapping/Others/'"
   ]
  },
  {
   "cell_type": "code",
   "execution_count": null,
   "metadata": {},
   "outputs": [
    {
     "name": "stdout",
     "output_type": "stream",
     "text": [
      "E_C :  0\n",
      "E_C :  1\n"
     ]
    }
   ],
   "source": [
    "# SAVING NEWS\n",
    "for article in artcl :\n",
    "    try :\n",
    "        Url = article.url\n",
    "        art = newspaper.Article(Url, language = 'en')\n",
    "        art.download()\n",
    "        art.parse()\n",
    "        if(len(art.text) > 150) :\n",
    "            title = 'title-'+str(i)+'.txt'\n",
    "            content = 'article-'+str(i)+'.txt'\n",
    "            with open(destination_folder+title,'w+') as file_1:\n",
    "                file_1.write(art.title)\n",
    "                file_1.closed\n",
    "            with open(destination_folder+content,'w+') as file_2:\n",
    "                file_2.write(art.text)\n",
    "                file_2.closed\n",
    "            i += 1\n",
    "    except :\n",
    "        print('E_C : ',ec)\n",
    "        ec += 1\n",
    "        pass"
   ]
  },
  {
   "cell_type": "code",
   "execution_count": null,
   "metadata": {},
   "outputs": [],
   "source": []
  }
 ],
 "metadata": {
  "kernelspec": {
   "display_name": "Python 3",
   "language": "python",
   "name": "python3"
  },
  "language_info": {
   "codemirror_mode": {
    "name": "ipython",
    "version": 3
   },
   "file_extension": ".py",
   "mimetype": "text/x-python",
   "name": "python",
   "nbconvert_exporter": "python",
   "pygments_lexer": "ipython3",
   "version": "3.6.5"
  }
 },
 "nbformat": 4,
 "nbformat_minor": 2
}
