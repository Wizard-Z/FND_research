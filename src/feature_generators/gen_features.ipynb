{
 "cells": [
  {
   "cell_type": "code",
   "execution_count": 1,
   "metadata": {},
   "outputs": [],
   "source": [
    "import pandas as pd\n",
    "import pickle\n",
    "from CountFeatureGenerator import *\n",
    "from TfidfFeatureGenerator import *\n",
    "# from SvdFeatureGenerator import *\n",
    "# from AlignmentFeatureGenerator import *\n",
    "from Word2VecFeatureGenerator import *\n",
    "from SentimentFeatureGenerator import *\n",
    "from ReadabilityFeatureGenerator import *"
   ]
  },
  {
   "cell_type": "markdown",
   "metadata": {},
   "source": [
    "## Load the preprocessed pickle data"
   ]
  },
  {
   "cell_type": "code",
   "execution_count": 2,
   "metadata": {
    "scrolled": true
   },
   "outputs": [
    {
     "name": "stdout",
     "output_type": "stream",
     "text": [
      "Data loaded\n",
      "data.shape:  (6335, 10)\n"
     ]
    }
   ],
   "source": [
    "with open('../saved_data/kaggle/data_new.pkl', 'rb') as infile:\n",
    "    data = pickle.load(infile)\n",
    "    print ('Data loaded')\n",
    "    print ('data.shape: ', data.shape)"
   ]
  },
  {
   "cell_type": "code",
   "execution_count": 3,
   "metadata": {},
   "outputs": [
    {
     "name": "stdout",
     "output_type": "stream",
     "text": [
      "<class 'pandas.core.frame.DataFrame'>\n",
      "RangeIndex: 6335 entries, 0 to 6334\n",
      "Data columns (total 10 columns):\n",
      "Headline               6335 non-null object\n",
      "articleBody            6335 non-null object\n",
      "type                   6335 non-null object\n",
      "target                 6335 non-null object\n",
      "Headline_unigram       6335 non-null object\n",
      "articleBody_unigram    6335 non-null object\n",
      "Headline_bigram        6335 non-null object\n",
      "articleBody_bigram     6335 non-null object\n",
      "Headline_trigram       6335 non-null object\n",
      "articleBody_trigram    6335 non-null object\n",
      "dtypes: object(10)\n",
      "memory usage: 495.0+ KB\n"
     ]
    }
   ],
   "source": [
    "data.info()"
   ]
  },
  {
   "cell_type": "markdown",
   "metadata": {},
   "source": [
    "## For Count Features"
   ]
  },
  {
   "cell_type": "code",
   "execution_count": 4,
   "metadata": {
    "scrolled": true
   },
   "outputs": [
    {
     "name": "stdout",
     "output_type": "stream",
     "text": [
      "\n",
      "---Generating Counting Features:---\n",
      "\n",
      "xBasicCounts.shape: (6335, 41)\n",
      "basic counting features saved in basic.pkl\n",
      "\n",
      "---Counting Features is complete---\n",
      "Time taken 13.106003284454346 seconds\n",
      "\n"
     ]
    },
    {
     "data": {
      "text/plain": [
       "1"
      ]
     },
     "execution_count": 4,
     "metadata": {},
     "output_type": "execute_result"
    }
   ],
   "source": [
    "countFG = CountFeatureGenerator()\n",
    "countFG.process(data)"
   ]
  },
  {
   "cell_type": "markdown",
   "metadata": {},
   "source": [
    "## For TfIdf Features"
   ]
  },
  {
   "cell_type": "code",
   "execution_count": 4,
   "metadata": {},
   "outputs": [
    {
     "name": "stdout",
     "output_type": "stream",
     "text": [
      "\n",
      "---Generating TFIDF Features:---\n",
      "\n",
      "\n",
      "length of vocabulary: 569265\n",
      "Vocabulary vector saved!\n",
      "\n",
      "xHeadlineTfidf.shape:  (6335, 569265)\n",
      "xBodyTfidf.shape:  (6335, 569265)\n",
      "simTfidf.shape:  (6335, 1)\n",
      "tfidf similarities features saved in sim.tfidf.pkl\n",
      "\n",
      "---TFIDF Features is complete---\n",
      "Time taken 43.96017146110535 seconds\n",
      "\n"
     ]
    },
    {
     "data": {
      "text/plain": [
       "1"
      ]
     },
     "execution_count": 4,
     "metadata": {},
     "output_type": "execute_result"
    }
   ],
   "source": [
    "tfidfFG = TfidfFeatureGenerator()\n",
    "tfidfFG.process(data)"
   ]
  },
  {
   "cell_type": "markdown",
   "metadata": {},
   "source": [
    "## For Readability Features"
   ]
  },
  {
   "cell_type": "code",
   "execution_count": 5,
   "metadata": {},
   "outputs": [
    {
     "name": "stdout",
     "output_type": "stream",
     "text": [
      "\n",
      "---Generating Readability Features:---\n",
      "\n",
      "flesch_reading_ease done!\n",
      "smog_index done!\n",
      "flesch_kincaid_grade done!\n",
      "coleman_liau_index done!\n",
      "automated_readability_index done!\n",
      "dale_chall_readability_score done!\n",
      "difficult_words done!\n",
      "linsear_write_formula done!\n",
      "gunning_fog done!\n",
      "i_me_myself done!\n",
      "punct done!\n",
      "lexical_diversity done!\n",
      "readable features saved in read.pkl\n",
      "\n",
      "---Readability Features is complete---\n",
      "Time taken 419.15688610076904 seconds\n",
      "\n"
     ]
    },
    {
     "data": {
      "text/plain": [
       "1"
      ]
     },
     "execution_count": 5,
     "metadata": {},
     "output_type": "execute_result"
    }
   ],
   "source": [
    "readFG = ReadabilityFeatureGenerator()\n",
    "readFG.process(data)"
   ]
  },
  {
   "cell_type": "markdown",
   "metadata": {},
   "source": [
    "## For Svd Features"
   ]
  },
  {
   "cell_type": "code",
   "execution_count": 3,
   "metadata": {
    "collapsed": true
   },
   "outputs": [
    {
     "name": "stdout",
     "output_type": "stream",
     "text": [
      "SvdFeatureGenerator, n_train: 49972\n",
      "SvdFeatureGenerator, n_test: 25413\n",
      "xHeadlineTfidf.shape:\n",
      "(49972, 769582)\n",
      "xBodyTfidf.shape:\n",
      "(49972, 769582)\n",
      "simTfidf.shape:\n",
      "(49972, 1)\n",
      "xHeadlineTfidf.shape:\n",
      "(25413, 769582)\n",
      "xBodyTfidf.shape:\n",
      "(25413, 769582)\n",
      "simTfidf.shape:\n",
      "(25413, 1)\n",
      "xHeadlineTfidf.shape:\n",
      "(75385, 769582)\n",
      "xHeadlineSvd.shape:\n",
      "(75385, 50)\n",
      "headline svd features of training set saved in train.headline.svd.pkl\n",
      "headline svd features of test set saved in test.headline.svd.pkl\n",
      "xBodySvd.shape:\n",
      "(75385, 50)\n",
      "body svd features of training set saved in train.body.svd.pkl\n",
      "body svd features of test set saved in test.body.svd.pkl\n",
      "simSvd.shape:\n",
      "(75385, 1)\n",
      "svd sim. features of training set saved in train.sim.svd.pkl\n",
      "svd sim. features of test set saved in test.sim.svd.pkl\n"
     ]
    },
    {
     "data": {
      "text/plain": [
       "1"
      ]
     },
     "execution_count": 3,
     "metadata": {},
     "output_type": "execute_result"
    }
   ],
   "source": [
    "svdFG = SvdFeatureGenerator()\n",
    "svdFG.process(data)"
   ]
  },
  {
   "cell_type": "markdown",
   "metadata": {},
   "source": [
    "## For Sentiment Features"
   ]
  },
  {
   "cell_type": "code",
   "execution_count": 6,
   "metadata": {},
   "outputs": [
    {
     "name": "stdout",
     "output_type": "stream",
     "text": [
      "\n",
      "---Generating Sentiment Features:---\n",
      "\n",
      "for headline\n",
      "headlineSenti.shape: (6335, 4)\n",
      "headline sentiment features saved in headline.senti.pkl\n",
      "headine sentiment done\n",
      "for body\n",
      "bodySenti.shape: (6335, 4)\n",
      "body sentiment features saved in body.senti.pkl\n",
      "body senti done\n",
      "\n",
      "---Sentiment Features is complete---\n",
      "Time taken 70.9984028339386 seconds\n",
      "\n"
     ]
    },
    {
     "data": {
      "text/plain": [
       "1"
      ]
     },
     "execution_count": 6,
     "metadata": {},
     "output_type": "execute_result"
    }
   ],
   "source": [
    "sentiFG = SentimentFeatureGenerator()\n",
    "sentiFG.process(data)"
   ]
  },
  {
   "cell_type": "markdown",
   "metadata": {},
   "source": [
    "## For Word2Vec Features"
   ]
  },
  {
   "cell_type": "code",
   "execution_count": 4,
   "metadata": {},
   "outputs": [
    {
     "name": "stdout",
     "output_type": "stream",
     "text": [
      "\n",
      "---Generating Word2Vector Features:---\n",
      "\n",
      "model loaded\n",
      "headlineVec.shape (6335, 50)\n",
      "headline word2vec features saved in headline.word2vec.pkl\n",
      "headine done\n",
      "bodyVec.shape:  (6335, 50)\n",
      "body word2vec features saved in body.word2vec.pkl\n",
      "body done\n",
      "simVec.shape: (6335, 1)\n",
      "word2vec similarities features set saved in sim.word2vec.pkl\n",
      "\n",
      "---Word2Vector Features is complete---\n",
      "Time taken 34.58673429489136 seconds\n",
      "\n"
     ]
    },
    {
     "data": {
      "text/plain": [
       "1"
      ]
     },
     "execution_count": 4,
     "metadata": {},
     "output_type": "execute_result"
    }
   ],
   "source": [
    "# The embedding matrix is in 50 dimensions for each word.\n",
    "word2vecFG = Word2VecFeatureGenerator()\n",
    "word2vecFG.process(data)"
   ]
  },
  {
   "cell_type": "markdown",
   "metadata": {},
   "source": [
    "## Next Step>>> Train Models"
   ]
  },
  {
   "cell_type": "code",
   "execution_count": null,
   "metadata": {},
   "outputs": [],
   "source": []
  }
 ],
 "metadata": {
  "kernelspec": {
   "display_name": "Python 3",
   "language": "python",
   "name": "python3"
  },
  "language_info": {
   "codemirror_mode": {
    "name": "ipython",
    "version": 3
   },
   "file_extension": ".py",
   "mimetype": "text/x-python",
   "name": "python",
   "nbconvert_exporter": "python",
   "pygments_lexer": "ipython3",
   "version": "3.6.6"
  }
 },
 "nbformat": 4,
 "nbformat_minor": 2
}
