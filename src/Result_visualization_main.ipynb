{
 "cells": [
  {
   "cell_type": "markdown",
   "metadata": {},
   "source": [
    "# Accuracy check"
   ]
  },
  {
   "cell_type": "code",
   "execution_count": 2,
   "metadata": {},
   "outputs": [],
   "source": [
    "import pandas as pd\n",
    "import numpy as np\n",
    "import matplotlib.pyplot as plt\n",
    "import itertools\n",
    "from sklearn.metrics import classification_report, confusion_matrix\n",
    "import seaborn as sns\n",
    "%matplotlib inline"
   ]
  },
  {
   "cell_type": "markdown",
   "metadata": {},
   "source": [
    "## Load Predictions"
   ]
  },
  {
   "cell_type": "code",
   "execution_count": 3,
   "metadata": {},
   "outputs": [
    {
     "data": {
      "text/html": [
       "<div>\n",
       "<style scoped>\n",
       "    .dataframe tbody tr th:only-of-type {\n",
       "        vertical-align: middle;\n",
       "    }\n",
       "\n",
       "    .dataframe tbody tr th {\n",
       "        vertical-align: top;\n",
       "    }\n",
       "\n",
       "    .dataframe thead th {\n",
       "        text-align: right;\n",
       "    }\n",
       "</style>\n",
       "<table border=\"1\" class=\"dataframe\">\n",
       "  <thead>\n",
       "    <tr style=\"text-align: right;\">\n",
       "      <th></th>\n",
       "      <th>id</th>\n",
       "      <th>Headline</th>\n",
       "      <th>target</th>\n",
       "      <th>preds</th>\n",
       "      <th>Reliable</th>\n",
       "      <th>Unreliable</th>\n",
       "    </tr>\n",
       "  </thead>\n",
       "  <tbody>\n",
       "    <tr>\n",
       "      <th>0</th>\n",
       "      <td>1357</td>\n",
       "      <td>American Dream, Revisited</td>\n",
       "      <td>1</td>\n",
       "      <td>unreliable</td>\n",
       "      <td>0.030065</td>\n",
       "      <td>0.969935</td>\n",
       "    </tr>\n",
       "    <tr>\n",
       "      <th>1</th>\n",
       "      <td>2080</td>\n",
       "      <td>Clintons Are Under Multiple FBI Investigations...</td>\n",
       "      <td>1</td>\n",
       "      <td>unreliable</td>\n",
       "      <td>0.014819</td>\n",
       "      <td>0.985181</td>\n",
       "    </tr>\n",
       "    <tr>\n",
       "      <th>2</th>\n",
       "      <td>2718</td>\n",
       "      <td>The FBI Can’t Actually Investigate a Candidate...</td>\n",
       "      <td>1</td>\n",
       "      <td>unreliable</td>\n",
       "      <td>0.239921</td>\n",
       "      <td>0.760079</td>\n",
       "    </tr>\n",
       "    <tr>\n",
       "      <th>3</th>\n",
       "      <td>812</td>\n",
       "      <td>Confirmed: Public overwhelmingly (10-to-1) say...</td>\n",
       "      <td>1</td>\n",
       "      <td>unreliable</td>\n",
       "      <td>0.388118</td>\n",
       "      <td>0.611881</td>\n",
       "    </tr>\n",
       "    <tr>\n",
       "      <th>4</th>\n",
       "      <td>4886</td>\n",
       "      <td>Nanny In Jail After Force Feeding Baby To Death</td>\n",
       "      <td>1</td>\n",
       "      <td>unreliable</td>\n",
       "      <td>0.010889</td>\n",
       "      <td>0.989111</td>\n",
       "    </tr>\n",
       "    <tr>\n",
       "      <th>5</th>\n",
       "      <td>4890</td>\n",
       "      <td>Media Roll Out Welcome Mat for ‘Humanitarian’ ...</td>\n",
       "      <td>1</td>\n",
       "      <td>unreliable</td>\n",
       "      <td>0.486016</td>\n",
       "      <td>0.513984</td>\n",
       "    </tr>\n",
       "    <tr>\n",
       "      <th>6</th>\n",
       "      <td>4714</td>\n",
       "      <td>Hillary Clinton accepts nomination with 'bound...</td>\n",
       "      <td>0</td>\n",
       "      <td>reliable</td>\n",
       "      <td>0.972764</td>\n",
       "      <td>0.027236</td>\n",
       "    </tr>\n",
       "    <tr>\n",
       "      <th>7</th>\n",
       "      <td>1782</td>\n",
       "      <td>Police Turn In Badges Rather Than Incite Viole...</td>\n",
       "      <td>1</td>\n",
       "      <td>unreliable</td>\n",
       "      <td>0.345873</td>\n",
       "      <td>0.654127</td>\n",
       "    </tr>\n",
       "    <tr>\n",
       "      <th>8</th>\n",
       "      <td>2445</td>\n",
       "      <td>South Carolina police officer charged with mur...</td>\n",
       "      <td>0</td>\n",
       "      <td>reliable</td>\n",
       "      <td>0.982056</td>\n",
       "      <td>0.017944</td>\n",
       "    </tr>\n",
       "    <tr>\n",
       "      <th>9</th>\n",
       "      <td>3574</td>\n",
       "      <td>Tony Blair helpfully describes Remain voters a...</td>\n",
       "      <td>1</td>\n",
       "      <td>unreliable</td>\n",
       "      <td>0.007808</td>\n",
       "      <td>0.992192</td>\n",
       "    </tr>\n",
       "  </tbody>\n",
       "</table>\n",
       "</div>"
      ],
      "text/plain": [
       "     id                                           Headline  target  \\\n",
       "0  1357                          American Dream, Revisited       1   \n",
       "1  2080  Clintons Are Under Multiple FBI Investigations...       1   \n",
       "2  2718  The FBI Can’t Actually Investigate a Candidate...       1   \n",
       "3   812  Confirmed: Public overwhelmingly (10-to-1) say...       1   \n",
       "4  4886    Nanny In Jail After Force Feeding Baby To Death       1   \n",
       "5  4890  Media Roll Out Welcome Mat for ‘Humanitarian’ ...       1   \n",
       "6  4714  Hillary Clinton accepts nomination with 'bound...       0   \n",
       "7  1782  Police Turn In Badges Rather Than Incite Viole...       1   \n",
       "8  2445  South Carolina police officer charged with mur...       0   \n",
       "9  3574  Tony Blair helpfully describes Remain voters a...       1   \n",
       "\n",
       "        preds  Reliable  Unreliable  \n",
       "0  unreliable  0.030065    0.969935  \n",
       "1  unreliable  0.014819    0.985181  \n",
       "2  unreliable  0.239921    0.760079  \n",
       "3  unreliable  0.388118    0.611881  \n",
       "4  unreliable  0.010889    0.989111  \n",
       "5  unreliable  0.486016    0.513984  \n",
       "6    reliable  0.972764    0.027236  \n",
       "7  unreliable  0.345873    0.654127  \n",
       "8    reliable  0.982056    0.017944  \n",
       "9  unreliable  0.007808    0.992192  "
      ]
     },
     "execution_count": 3,
     "metadata": {},
     "output_type": "execute_result"
    }
   ],
   "source": [
    "results = pd.read_csv('results/predictions_early_80_new.csv')\n",
    "results.head(10)"
   ]
  },
  {
   "cell_type": "code",
   "execution_count": 4,
   "metadata": {},
   "outputs": [
    {
     "data": {
      "text/plain": [
       "{'reliable': 0, 'unreliable': 1}"
      ]
     },
     "execution_count": 4,
     "metadata": {},
     "output_type": "execute_result"
    }
   ],
   "source": [
    "targets = ['reliable', 'unreliable']\n",
    "targets_dict = dict(zip(targets, range(len(targets))))\n",
    "targets_dict"
   ]
  },
  {
   "cell_type": "code",
   "execution_count": 5,
   "metadata": {},
   "outputs": [
    {
     "data": {
      "text/html": [
       "<div>\n",
       "<style scoped>\n",
       "    .dataframe tbody tr th:only-of-type {\n",
       "        vertical-align: middle;\n",
       "    }\n",
       "\n",
       "    .dataframe tbody tr th {\n",
       "        vertical-align: top;\n",
       "    }\n",
       "\n",
       "    .dataframe thead th {\n",
       "        text-align: right;\n",
       "    }\n",
       "</style>\n",
       "<table border=\"1\" class=\"dataframe\">\n",
       "  <thead>\n",
       "    <tr style=\"text-align: right;\">\n",
       "      <th></th>\n",
       "      <th>id</th>\n",
       "      <th>Headline</th>\n",
       "      <th>target</th>\n",
       "      <th>preds</th>\n",
       "      <th>Reliable</th>\n",
       "      <th>Unreliable</th>\n",
       "      <th>predict</th>\n",
       "    </tr>\n",
       "  </thead>\n",
       "  <tbody>\n",
       "    <tr>\n",
       "      <th>0</th>\n",
       "      <td>1357</td>\n",
       "      <td>American Dream, Revisited</td>\n",
       "      <td>1</td>\n",
       "      <td>unreliable</td>\n",
       "      <td>0.030065</td>\n",
       "      <td>0.969935</td>\n",
       "      <td>1</td>\n",
       "    </tr>\n",
       "    <tr>\n",
       "      <th>1</th>\n",
       "      <td>2080</td>\n",
       "      <td>Clintons Are Under Multiple FBI Investigations...</td>\n",
       "      <td>1</td>\n",
       "      <td>unreliable</td>\n",
       "      <td>0.014819</td>\n",
       "      <td>0.985181</td>\n",
       "      <td>1</td>\n",
       "    </tr>\n",
       "    <tr>\n",
       "      <th>2</th>\n",
       "      <td>2718</td>\n",
       "      <td>The FBI Can’t Actually Investigate a Candidate...</td>\n",
       "      <td>1</td>\n",
       "      <td>unreliable</td>\n",
       "      <td>0.239921</td>\n",
       "      <td>0.760079</td>\n",
       "      <td>1</td>\n",
       "    </tr>\n",
       "    <tr>\n",
       "      <th>3</th>\n",
       "      <td>812</td>\n",
       "      <td>Confirmed: Public overwhelmingly (10-to-1) say...</td>\n",
       "      <td>1</td>\n",
       "      <td>unreliable</td>\n",
       "      <td>0.388118</td>\n",
       "      <td>0.611881</td>\n",
       "      <td>1</td>\n",
       "    </tr>\n",
       "    <tr>\n",
       "      <th>4</th>\n",
       "      <td>4886</td>\n",
       "      <td>Nanny In Jail After Force Feeding Baby To Death</td>\n",
       "      <td>1</td>\n",
       "      <td>unreliable</td>\n",
       "      <td>0.010889</td>\n",
       "      <td>0.989111</td>\n",
       "      <td>1</td>\n",
       "    </tr>\n",
       "    <tr>\n",
       "      <th>5</th>\n",
       "      <td>4890</td>\n",
       "      <td>Media Roll Out Welcome Mat for ‘Humanitarian’ ...</td>\n",
       "      <td>1</td>\n",
       "      <td>unreliable</td>\n",
       "      <td>0.486016</td>\n",
       "      <td>0.513984</td>\n",
       "      <td>1</td>\n",
       "    </tr>\n",
       "    <tr>\n",
       "      <th>6</th>\n",
       "      <td>4714</td>\n",
       "      <td>Hillary Clinton accepts nomination with 'bound...</td>\n",
       "      <td>0</td>\n",
       "      <td>reliable</td>\n",
       "      <td>0.972764</td>\n",
       "      <td>0.027236</td>\n",
       "      <td>0</td>\n",
       "    </tr>\n",
       "    <tr>\n",
       "      <th>7</th>\n",
       "      <td>1782</td>\n",
       "      <td>Police Turn In Badges Rather Than Incite Viole...</td>\n",
       "      <td>1</td>\n",
       "      <td>unreliable</td>\n",
       "      <td>0.345873</td>\n",
       "      <td>0.654127</td>\n",
       "      <td>1</td>\n",
       "    </tr>\n",
       "    <tr>\n",
       "      <th>8</th>\n",
       "      <td>2445</td>\n",
       "      <td>South Carolina police officer charged with mur...</td>\n",
       "      <td>0</td>\n",
       "      <td>reliable</td>\n",
       "      <td>0.982056</td>\n",
       "      <td>0.017944</td>\n",
       "      <td>0</td>\n",
       "    </tr>\n",
       "    <tr>\n",
       "      <th>9</th>\n",
       "      <td>3574</td>\n",
       "      <td>Tony Blair helpfully describes Remain voters a...</td>\n",
       "      <td>1</td>\n",
       "      <td>unreliable</td>\n",
       "      <td>0.007808</td>\n",
       "      <td>0.992192</td>\n",
       "      <td>1</td>\n",
       "    </tr>\n",
       "  </tbody>\n",
       "</table>\n",
       "</div>"
      ],
      "text/plain": [
       "     id                                           Headline  target  \\\n",
       "0  1357                          American Dream, Revisited       1   \n",
       "1  2080  Clintons Are Under Multiple FBI Investigations...       1   \n",
       "2  2718  The FBI Can’t Actually Investigate a Candidate...       1   \n",
       "3   812  Confirmed: Public overwhelmingly (10-to-1) say...       1   \n",
       "4  4886    Nanny In Jail After Force Feeding Baby To Death       1   \n",
       "5  4890  Media Roll Out Welcome Mat for ‘Humanitarian’ ...       1   \n",
       "6  4714  Hillary Clinton accepts nomination with 'bound...       0   \n",
       "7  1782  Police Turn In Badges Rather Than Incite Viole...       1   \n",
       "8  2445  South Carolina police officer charged with mur...       0   \n",
       "9  3574  Tony Blair helpfully describes Remain voters a...       1   \n",
       "\n",
       "        preds  Reliable  Unreliable  predict  \n",
       "0  unreliable  0.030065    0.969935        1  \n",
       "1  unreliable  0.014819    0.985181        1  \n",
       "2  unreliable  0.239921    0.760079        1  \n",
       "3  unreliable  0.388118    0.611881        1  \n",
       "4  unreliable  0.010889    0.989111        1  \n",
       "5  unreliable  0.486016    0.513984        1  \n",
       "6    reliable  0.972764    0.027236        0  \n",
       "7  unreliable  0.345873    0.654127        1  \n",
       "8    reliable  0.982056    0.017944        0  \n",
       "9  unreliable  0.007808    0.992192        1  "
      ]
     },
     "execution_count": 5,
     "metadata": {},
     "output_type": "execute_result"
    }
   ],
   "source": [
    "results['predict'] = list(map(lambda x: targets_dict[x], results['preds']))\n",
    "results.head(10)"
   ]
  },
  {
   "cell_type": "markdown",
   "metadata": {},
   "source": [
    "## Performance Check"
   ]
  },
  {
   "cell_type": "code",
   "execution_count": 6,
   "metadata": {},
   "outputs": [],
   "source": [
    "y_true = results.target\n",
    "y_pred = results.predict"
   ]
  },
  {
   "cell_type": "code",
   "execution_count": 7,
   "metadata": {},
   "outputs": [
    {
     "name": "stdout",
     "output_type": "stream",
     "text": [
      "             precision    recall  f1-score   support\n",
      "\n",
      "          0       0.88      0.92      0.90       639\n",
      "          1       0.91      0.87      0.89       628\n",
      "\n",
      "avg / total       0.89      0.89      0.89      1267\n",
      "\n"
     ]
    }
   ],
   "source": [
    "print(classification_report(y_true, y_pred))"
   ]
  },
  {
   "cell_type": "markdown",
   "metadata": {},
   "source": [
    "## Plot Confusion Matrix"
   ]
  },
  {
   "cell_type": "code",
   "execution_count": 8,
   "metadata": {},
   "outputs": [],
   "source": [
    "def plot_confusion_matrix(cm, classes,\n",
    "                          normalize=False,\n",
    "                          title='Confusion matrix',\n",
    "                          cmap=plt.cm.Blues):\n",
    "    \"\"\"\n",
    "    This function prints and plots the confusion matrix.\n",
    "    Normalization can be applied by setting `normalize=True`.\n",
    "    \"\"\"\n",
    "    if normalize:\n",
    "        cm = cm.astype('float') / cm.sum(axis=1)[:, np.newaxis]\n",
    "        print(\"Normalized confusion matrix\")\n",
    "    else:\n",
    "        print('Confusion matrix, without normalization')\n",
    "\n",
    "    print(cm)\n",
    "\n",
    "    plt.imshow(cm, interpolation='nearest', cmap=cmap)\n",
    "    plt.title(title)\n",
    "    plt.colorbar()\n",
    "    tick_marks = np.arange(len(classes))\n",
    "    plt.xticks(tick_marks, classes, rotation=45)\n",
    "    plt.yticks(tick_marks, classes)\n",
    "\n",
    "    fmt = '.2f' if normalize else 'd'\n",
    "    thresh = cm.max() / 2.\n",
    "    for i, j in itertools.product(range(cm.shape[0]), range(cm.shape[1])):\n",
    "        plt.text(j, i, format(cm[i, j], fmt),\n",
    "                 horizontalalignment=\"center\",\n",
    "                 color=\"white\" if cm[i, j] > thresh else \"black\")\n",
    "\n",
    "    plt.ylabel('True label')\n",
    "    \n",
    "    plt.xlabel('Predicted label')\n",
    "    plt.tight_layout()\n"
   ]
  },
  {
   "cell_type": "code",
   "execution_count": 9,
   "metadata": {},
   "outputs": [
    {
     "name": "stdout",
     "output_type": "stream",
     "text": [
      "Confusion matrix, without normalization\n",
      "[[586  53]\n",
      " [ 81 547]]\n"
     ]
    },
    {
     "data": {
      "image/png": "[encoded data removed]",
      "text/plain": [
       "<Figure size 432x288 with 2 Axes>"
      ]
     },
     "metadata": {
      "needs_background": "light"
     },
     "output_type": "display_data"
    }
   ],
   "source": [
    "plot_confusion_matrix(confusion_matrix(y_true, y_pred),['Reliable', 'Fake'])"
   ]
  },
  {
   "cell_type": "markdown",
   "metadata": {},
   "source": [
    "## Prediction distribution visualization"
   ]
  },
  {
   "cell_type": "code",
   "execution_count": null,
   "metadata": {},
   "outputs": [],
   "source": [
    "rel = results[results['predict'].astype(str) == '0']['Reliable']\n",
    "unrel = results[results['predict'].astype(str) == '1']['Reliable']"
   ]
  },
  {
   "cell_type": "code",
   "execution_count": 11,
   "metadata": {},
   "outputs": [
    {
     "ename": "NameError",
     "evalue": "name 'rel' is not defined",
     "output_type": "error",
     "traceback": [
      "\u001b[0;31m---------------------------------------------------------------------------\u001b[0m",
      "\u001b[0;31mNameError\u001b[0m                                 Traceback (most recent call last)",
      "\u001b[0;32m<ipython-input-11-8396698053b7>\u001b[0m in \u001b[0;36m<module>\u001b[0;34m()\u001b[0m\n\u001b[0;32m----> 1\u001b[0;31m \u001b[0msns\u001b[0m\u001b[0;34m.\u001b[0m\u001b[0mdistplot\u001b[0m\u001b[0;34m(\u001b[0m\u001b[0mrel\u001b[0m\u001b[0;34m)\u001b[0m\u001b[0;34m\u001b[0m\u001b[0m\n\u001b[0m",
      "\u001b[0;31mNameError\u001b[0m: name 'rel' is not defined"
     ]
    }
   ],
   "source": [
    "sns.distplot(rel)"
   ]
  },
  {
   "cell_type": "code",
   "execution_count": 11,
   "metadata": {},
   "outputs": [
    {
     "name": "stderr",
     "output_type": "stream",
     "text": [
      "/opt/Anaconda3/lib/python3.6/site-packages/scipy/stats/stats.py:1713: FutureWarning: Using a non-tuple sequence for multidimensional indexing is deprecated; use `arr[tuple(seq)]` instead of `arr[seq]`. In the future this will be interpreted as an array index, `arr[np.array(seq)]`, which will result either in an error or a different result.\n",
      "  return np.add.reduce(sorted[indexer] * weights, axis=axis) / sumval\n"
     ]
    },
    {
     "data": {
      "text/plain": [
       "<matplotlib.axes._subplots.AxesSubplot at 0x7f4205f2aa58>"
      ]
     },
     "execution_count": 11,
     "metadata": {},
     "output_type": "execute_result"
    },
    {
     "data": {
      "image/png": "[encoded data removed]",
      "text/plain": [
       "<Figure size 432x288 with 1 Axes>"
      ]
     },
     "metadata": {
      "needs_background": "light"
     },
     "output_type": "display_data"
    }
   ],
   "source": [
    "sns.distplot(unrel)"
   ]
  },
  {
   "cell_type": "code",
   "execution_count": null,
   "metadata": {},
   "outputs": [],
   "source": []
  }
 ],
 "metadata": {
  "kernelspec": {
   "display_name": "Python 3",
   "language": "python",
   "name": "python3"
  },
  "language_info": {
   "codemirror_mode": {
    "name": "ipython",
    "version": 3
   },
   "file_extension": ".py",
   "mimetype": "text/x-python",
   "name": "python",
   "nbconvert_exporter": "python",
   "pygments_lexer": "ipython3",
   "version": "3.6.6"
  }
 },
 "nbformat": 4,
 "nbformat_minor": 2
}
