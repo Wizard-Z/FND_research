{
 "cells": [
  {
   "cell_type": "code",
   "execution_count": 1,
   "metadata": {},
   "outputs": [],
   "source": [
    "import pickle"
   ]
  },
  {
   "cell_type": "code",
   "execution_count": 2,
   "metadata": {},
   "outputs": [
    {
     "name": "stdout",
     "output_type": "stream",
     "text": [
      "analysis\t\t\t    generated_feature.pkl\n",
      "clean_fake_reliable_features__.csv  generated_feature_targets.pkl\n",
      "clean_fake_reliable_features.csv    reliable_mini.csv\n",
      "clean_mini.csv\t\t\t    rumor_mini.csv\n",
      "clickbait_mini.csv\t\t    temp_web\n",
      "Fake_clean.csv\t\t\t    unreliable_mini.csv\n",
      "fake_mini.csv\t\t\t    Web_Scrapping\n"
     ]
    }
   ],
   "source": [
    "!ls Datasets/"
   ]
  },
  {
   "cell_type": "code",
   "execution_count": 3,
   "metadata": {},
   "outputs": [],
   "source": [
    "def read_pickle(path):\n",
    "    objects = []\n",
    "    with (open(path, \"rb\")) as openfile:\n",
    "        while True:\n",
    "            try:\n",
    "                objects.append(pickle.load(openfile))\n",
    "            except EOFError:\n",
    "                break\n",
    "    return objects\n"
   ]
  },
  {
   "cell_type": "code",
   "execution_count": 19,
   "metadata": {},
   "outputs": [],
   "source": [
    "features = read_pickle('Datasets/generated_feature.pkl')\n",
    "targets = read_pickle('Datasets/generated_feature_targets.pkl')"
   ]
  },
  {
   "cell_type": "code",
   "execution_count": 36,
   "metadata": {},
   "outputs": [],
   "source": [
    "X = features[0][:2000]\n",
    "y = targets[0]['target'][:2000]"
   ]
  },
  {
   "cell_type": "code",
   "execution_count": 35,
   "metadata": {},
   "outputs": [
    {
     "data": {
      "text/plain": [
       "0    1037\n",
       "1     963\n",
       "Name: target, dtype: int64"
      ]
     },
     "execution_count": 35,
     "metadata": {},
     "output_type": "execute_result"
    }
   ],
   "source": []
  },
  {
   "cell_type": "code",
   "execution_count": 64,
   "metadata": {},
   "outputs": [],
   "source": [
    "import xgboost\n",
    "from sklearn.model_selection import cross_val_score\n",
    "from sklearn.model_selection import StratifiedKFold\n",
    "from sklearn.naive_bayes import GaussianNB\n",
    "from sklearn.ensemble import RandomForestClassifier, AdaBoostClassifier\n",
    "from sklearn.svm import SVC\n",
    "from sklearn.neural_network import MLPClassifier\n",
    "from sklearn.neighbors import KNeighborsClassifier\n",
    "import matplotlib.pyplot as plt\n",
    "%matplotlib inline "
   ]
  },
  {
   "cell_type": "code",
   "execution_count": 51,
   "metadata": {},
   "outputs": [
    {
     "name": "stderr",
     "output_type": "stream",
     "text": [
      "/home/sourabh/anaconda3/envs/py36/lib/python3.6/site-packages/sklearn/preprocessing/label.py:151: DeprecationWarning: The truth value of an empty array is ambiguous. Returning False, but in future this will result in an error. Use `array.size > 0` to check that an array is not empty.\n",
      "  if diff:\n",
      "/home/sourabh/anaconda3/envs/py36/lib/python3.6/site-packages/sklearn/preprocessing/label.py:151: DeprecationWarning: The truth value of an empty array is ambiguous. Returning False, but in future this will result in an error. Use `array.size > 0` to check that an array is not empty.\n",
      "  if diff:\n",
      "/home/sourabh/anaconda3/envs/py36/lib/python3.6/site-packages/sklearn/preprocessing/label.py:151: DeprecationWarning: The truth value of an empty array is ambiguous. Returning False, but in future this will result in an error. Use `array.size > 0` to check that an array is not empty.\n",
      "  if diff:\n",
      "/home/sourabh/anaconda3/envs/py36/lib/python3.6/site-packages/sklearn/preprocessing/label.py:151: DeprecationWarning: The truth value of an empty array is ambiguous. Returning False, but in future this will result in an error. Use `array.size > 0` to check that an array is not empty.\n",
      "  if diff:\n",
      "/home/sourabh/anaconda3/envs/py36/lib/python3.6/site-packages/sklearn/preprocessing/label.py:151: DeprecationWarning: The truth value of an empty array is ambiguous. Returning False, but in future this will result in an error. Use `array.size > 0` to check that an array is not empty.\n",
      "  if diff:\n",
      "/home/sourabh/anaconda3/envs/py36/lib/python3.6/site-packages/sklearn/preprocessing/label.py:151: DeprecationWarning: The truth value of an empty array is ambiguous. Returning False, but in future this will result in an error. Use `array.size > 0` to check that an array is not empty.\n",
      "  if diff:\n",
      "/home/sourabh/anaconda3/envs/py36/lib/python3.6/site-packages/sklearn/preprocessing/label.py:151: DeprecationWarning: The truth value of an empty array is ambiguous. Returning False, but in future this will result in an error. Use `array.size > 0` to check that an array is not empty.\n",
      "  if diff:\n",
      "/home/sourabh/anaconda3/envs/py36/lib/python3.6/site-packages/sklearn/preprocessing/label.py:151: DeprecationWarning: The truth value of an empty array is ambiguous. Returning False, but in future this will result in an error. Use `array.size > 0` to check that an array is not empty.\n",
      "  if diff:\n",
      "/home/sourabh/anaconda3/envs/py36/lib/python3.6/site-packages/sklearn/preprocessing/label.py:151: DeprecationWarning: The truth value of an empty array is ambiguous. Returning False, but in future this will result in an error. Use `array.size > 0` to check that an array is not empty.\n",
      "  if diff:\n",
      "/home/sourabh/anaconda3/envs/py36/lib/python3.6/site-packages/sklearn/preprocessing/label.py:151: DeprecationWarning: The truth value of an empty array is ambiguous. Returning False, but in future this will result in an error. Use `array.size > 0` to check that an array is not empty.\n",
      "  if diff:\n"
     ]
    },
    {
     "data": {
      "text/plain": [
       "''"
      ]
     },
     "execution_count": 51,
     "metadata": {},
     "output_type": "execute_result"
    }
   ],
   "source": [
    "def skfold(X, y, model):\n",
    "    skf = StratifiedKFold(n_splits=10)\n",
    "    skf.get_n_splits(X, y)\n",
    "    results = cross_val_score(model, X, y, cv=skf)\n",
    "    return results\n",
    "\n",
    "\n",
    "xgb = skfold(X, y, xgboost.XGBClassifier())\n",
    "gnb = skfold(X, y, GaussianNB())\n",
    "rf = skfold(X, y,RandomForestClassifier())\n",
    "svc = skfold(X, y,SVC())\n",
    "ada = skfold(X, y,AdaBoostClassifier())\n",
    "knn = skfold(X, y,KNeighborsClassifier())\n",
    "MLPc = skfold(X, y,MLPClassifier())\n",
    "dic = {'XGB':xgb, 'RandomForest':rf,'SVC':svc,'GaussianNB':gnb,'adaBoost':ada,'KNN':knn, 'MLPc':MLPc}\n",
    "dic\n",
    "\n"
   ]
  },
  {
   "cell_type": "code",
   "execution_count": 52,
   "metadata": {},
   "outputs": [
    {
     "name": "stdout",
     "output_type": "stream",
     "text": [
      "Accuracy of XGBOOST is 84.89976999424987 and std is 1.3402324772197205\n",
      "Accuracy of Random Forest is 80.24419485487137 and std is 2.7735687092850947\n",
      "Accuracy of SVC  is 61.60266881672041 and std is 2.884279245596373\n",
      "Accuracy of gnb  is 77.34791119777995 and std is 1.9497949944449182\n",
      "Accuracy of adab  is 82.45149128728218 and std is 1.7190477701557179\n",
      "Accuracy of knn  is 62.30243006075151 and std is 2.3056143464548278\n",
      "Accuracy of mlp  is 66.57821570539262 and std is 9.29775236941885\n"
     ]
    }
   ],
   "source": [
    "def print_acc(results,model):\n",
    "    print(\"Accuracy of {} is {} and std is {}\" .format(model ,results.mean()*100, results.std()*100))\n",
    "\n",
    "print_acc(xgb, 'XGBOOST')\n",
    "print_acc(rf, 'Random Forest')\n",
    "print_acc(svc, 'SVC ')\n",
    "print_acc(gnb, 'gnb ')\n",
    "print_acc(ada, 'adab ')\n",
    "print_acc(knn, 'knn ')\n",
    "print_acc(MLPc, 'mlp ')\n",
    "\n"
   ]
  },
  {
   "cell_type": "code",
   "execution_count": 61,
   "metadata": {},
   "outputs": [],
   "source": [
    "\n",
    "import pandas as pd\n",
    "results = pd.DataFrame(dic).applymap(lambda x: x*100)"
   ]
  },
  {
   "cell_type": "code",
   "execution_count": 62,
   "metadata": {},
   "outputs": [
    {
     "data": {
      "text/html": [
       "<div>\n",
       "<style scoped>\n",
       "    .dataframe tbody tr th:only-of-type {\n",
       "        vertical-align: middle;\n",
       "    }\n",
       "\n",
       "    .dataframe tbody tr th {\n",
       "        vertical-align: top;\n",
       "    }\n",
       "\n",
       "    .dataframe thead th {\n",
       "        text-align: right;\n",
       "    }\n",
       "</style>\n",
       "<table border=\"1\" class=\"dataframe\">\n",
       "  <thead>\n",
       "    <tr style=\"text-align: right;\">\n",
       "      <th></th>\n",
       "      <th>GaussianNB</th>\n",
       "      <th>KNN</th>\n",
       "      <th>MLPc</th>\n",
       "      <th>RandomForest</th>\n",
       "      <th>SVC</th>\n",
       "      <th>XGB</th>\n",
       "      <th>adaBoost</th>\n",
       "    </tr>\n",
       "  </thead>\n",
       "  <tbody>\n",
       "    <tr>\n",
       "      <th>0</th>\n",
       "      <td>78.606965</td>\n",
       "      <td>61.194030</td>\n",
       "      <td>65.671642</td>\n",
       "      <td>85.074627</td>\n",
       "      <td>58.706468</td>\n",
       "      <td>85.074627</td>\n",
       "      <td>84.079602</td>\n",
       "    </tr>\n",
       "    <tr>\n",
       "      <th>1</th>\n",
       "      <td>78.109453</td>\n",
       "      <td>62.189055</td>\n",
       "      <td>68.656716</td>\n",
       "      <td>79.104478</td>\n",
       "      <td>63.184080</td>\n",
       "      <td>83.084577</td>\n",
       "      <td>83.582090</td>\n",
       "    </tr>\n",
       "    <tr>\n",
       "      <th>2</th>\n",
       "      <td>77.611940</td>\n",
       "      <td>60.199005</td>\n",
       "      <td>80.597015</td>\n",
       "      <td>80.597015</td>\n",
       "      <td>59.203980</td>\n",
       "      <td>86.069652</td>\n",
       "      <td>79.104478</td>\n",
       "    </tr>\n",
       "    <tr>\n",
       "      <th>3</th>\n",
       "      <td>74.500000</td>\n",
       "      <td>66.000000</td>\n",
       "      <td>70.500000</td>\n",
       "      <td>79.000000</td>\n",
       "      <td>61.000000</td>\n",
       "      <td>83.500000</td>\n",
       "      <td>79.500000</td>\n",
       "    </tr>\n",
       "    <tr>\n",
       "      <th>4</th>\n",
       "      <td>75.500000</td>\n",
       "      <td>58.500000</td>\n",
       "      <td>74.500000</td>\n",
       "      <td>81.000000</td>\n",
       "      <td>58.000000</td>\n",
       "      <td>86.500000</td>\n",
       "      <td>82.500000</td>\n",
       "    </tr>\n",
       "    <tr>\n",
       "      <th>5</th>\n",
       "      <td>80.000000</td>\n",
       "      <td>62.500000</td>\n",
       "      <td>77.500000</td>\n",
       "      <td>80.000000</td>\n",
       "      <td>62.500000</td>\n",
       "      <td>85.000000</td>\n",
       "      <td>83.500000</td>\n",
       "    </tr>\n",
       "    <tr>\n",
       "      <th>6</th>\n",
       "      <td>79.000000</td>\n",
       "      <td>64.000000</td>\n",
       "      <td>57.000000</td>\n",
       "      <td>84.500000</td>\n",
       "      <td>67.000000</td>\n",
       "      <td>86.000000</td>\n",
       "      <td>82.500000</td>\n",
       "    </tr>\n",
       "    <tr>\n",
       "      <th>7</th>\n",
       "      <td>77.386935</td>\n",
       "      <td>65.829146</td>\n",
       "      <td>48.743719</td>\n",
       "      <td>75.376884</td>\n",
       "      <td>65.829146</td>\n",
       "      <td>82.412060</td>\n",
       "      <td>81.909548</td>\n",
       "    </tr>\n",
       "    <tr>\n",
       "      <th>8</th>\n",
       "      <td>78.894472</td>\n",
       "      <td>62.311558</td>\n",
       "      <td>61.306533</td>\n",
       "      <td>77.386935</td>\n",
       "      <td>61.306533</td>\n",
       "      <td>85.929648</td>\n",
       "      <td>83.919598</td>\n",
       "    </tr>\n",
       "    <tr>\n",
       "      <th>9</th>\n",
       "      <td>73.869347</td>\n",
       "      <td>60.301508</td>\n",
       "      <td>61.306533</td>\n",
       "      <td>80.402010</td>\n",
       "      <td>59.296482</td>\n",
       "      <td>85.427136</td>\n",
       "      <td>83.919598</td>\n",
       "    </tr>\n",
       "  </tbody>\n",
       "</table>\n",
       "</div>"
      ],
      "text/plain": [
       "   GaussianNB        KNN       MLPc  RandomForest        SVC        XGB  \\\n",
       "0   78.606965  61.194030  65.671642     85.074627  58.706468  85.074627   \n",
       "1   78.109453  62.189055  68.656716     79.104478  63.184080  83.084577   \n",
       "2   77.611940  60.199005  80.597015     80.597015  59.203980  86.069652   \n",
       "3   74.500000  66.000000  70.500000     79.000000  61.000000  83.500000   \n",
       "4   75.500000  58.500000  74.500000     81.000000  58.000000  86.500000   \n",
       "5   80.000000  62.500000  77.500000     80.000000  62.500000  85.000000   \n",
       "6   79.000000  64.000000  57.000000     84.500000  67.000000  86.000000   \n",
       "7   77.386935  65.829146  48.743719     75.376884  65.829146  82.412060   \n",
       "8   78.894472  62.311558  61.306533     77.386935  61.306533  85.929648   \n",
       "9   73.869347  60.301508  61.306533     80.402010  59.296482  85.427136   \n",
       "\n",
       "    adaBoost  \n",
       "0  84.079602  \n",
       "1  83.582090  \n",
       "2  79.104478  \n",
       "3  79.500000  \n",
       "4  82.500000  \n",
       "5  83.500000  \n",
       "6  82.500000  \n",
       "7  81.909548  \n",
       "8  83.919598  \n",
       "9  83.919598  "
      ]
     },
     "execution_count": 62,
     "metadata": {},
     "output_type": "execute_result"
    }
   ],
   "source": [
    "results"
   ]
  },
  {
   "cell_type": "code",
   "execution_count": 108,
   "metadata": {},
   "outputs": [
    {
     "data": {
      "image/png": "[encoded data removed]",
      "text/plain": [
       "<Figure size 432x288 with 1 Axes>"
      ]
     },
     "metadata": {},
     "output_type": "display_data"
    }
   ],
   "source": [
    "ax = results.plot(**{'linewidth':1.5, 'linestyle':'-.','marker':'o',\\\n",
    "                     'alpha':.6})\n",
    "ax.legend(bbox_to_anchor=(0,1.02,1,0.2), loc=\"lower left\",\n",
    "                mode=\"expand\", borderaxespad=0, ncol=3)\n",
    "plt.xlabel('n-fold')\n",
    "plt.ylabel('%accuracy')\n",
    "#plt.savefig('visualization/SKF.jpg',dpi=300,format='jpg')\n"
   ]
  },
  {
   "cell_type": "code",
   "execution_count": 66,
   "metadata": {},
   "outputs": [
    {
     "data": {
      "text/html": [
       "<script>requirejs.config({paths: { 'plotly': ['https://cdn.plot.ly/plotly-latest.min']},});if(!window.Plotly) {{require(['plotly'],function(plotly) {window.Plotly=plotly;});}}</script>"
      ],
      "text/vnd.plotly.v1+html": [
       "<script>requirejs.config({paths: { 'plotly': ['https://cdn.plot.ly/plotly-latest.min']},});if(!window.Plotly) {{require(['plotly'],function(plotly) {window.Plotly=plotly;});}}</script>"
      ]
     },
     "metadata": {},
     "output_type": "display_data"
    },
    {
     "name": "stdout",
     "output_type": "stream",
     "text": [
      "2.4.1\n"
     ]
    }
   ],
   "source": [
    "from plotly import __version__\n",
    "from plotly.offline import download_plotlyjs, init_notebook_mode, plot, iplot\n",
    "import cufflinks as cf\n",
    "# For Notebooks\n",
    "init_notebook_mode(connected=True)\n",
    "print(__version__)`"
   ]
  },
  {
   "cell_type": "code",
   "execution_count": null,
   "metadata": {},
   "outputs": [],
   "source": []
  }
 ],
 "metadata": {
  "kernelspec": {
   "display_name": "Python 3",
   "language": "python",
   "name": "python3"
  },
  "language_info": {
   "codemirror_mode": {
    "name": "ipython",
    "version": 3
   },
   "file_extension": ".py",
   "mimetype": "text/x-python",
   "name": "python",
   "nbconvert_exporter": "python",
   "pygments_lexer": "ipython3",
   "version": "3.6.8"
  }
 },
 "nbformat": 4,
 "nbformat_minor": 2
}
